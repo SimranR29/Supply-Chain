{
  "nbformat": 4,
  "nbformat_minor": 0,
  "metadata": {
    "colab": {
      "provenance": []
    },
    "kernelspec": {
      "name": "python3",
      "display_name": "Python 3"
    },
    "language_info": {
      "name": "python"
    }
  },
  "cells": [
    {
      "cell_type": "markdown",
      "source": [
        "Facebook Prophet approach"
      ],
      "metadata": {
        "id": "BvqQIcwvOI2d"
      }
    },
    {
      "cell_type": "code",
      "source": [
        "!pip install fbprophet"
      ],
      "metadata": {
        "id": "q7ae6T9PPkn0"
      },
      "execution_count": null,
      "outputs": []
    },
    {
      "cell_type": "code",
      "source": [
        "from fbprophet import Prophet\n",
        "\n",
        "# Prepare the data\n",
        "df = df.rename(columns={'Order Date': 'ds', 'Number of products sold': 'y'})\n",
        "\n",
        "# Initialize the Model\n",
        "model = Prophet()\n",
        "\n",
        "# Fit the Model\n",
        "model.fit(df)\n",
        "\n",
        "# Create an empty dataframe for future predictions\n",
        "future = model.make_future_dataframe(periods=365)\n",
        "\n",
        "# Make predictions\n",
        "forecast = model.predict(future)\n",
        "\n",
        "# Calculate RMSE\n",
        "y_true = df['y'].values\n",
        "y_pred = forecast['yhat'][:len(df)].values\n",
        "mse = mean_squared_error(y_true, y_pred)\n",
        "rmse = math.sqrt(mse)\n",
        "print('RMSE: %.2f' % rmse)\n"
      ],
      "metadata": {
        "id": "6njfPNDMPMO0"
      },
      "execution_count": null,
      "outputs": []
    },
    {
      "cell_type": "markdown",
      "source": [
        "DeepAR approach"
      ],
      "metadata": {
        "id": "-0bfAW7bQZ7d"
      }
    },
    {
      "cell_type": "code",
      "source": [
        "!pip install sagemaker"
      ],
      "metadata": {
        "id": "f_S8MJt-QewD"
      },
      "execution_count": null,
      "outputs": []
    },
    {
      "cell_type": "code",
      "source": [
        "# import necessary libraries\n",
        "import sagemaker\n",
        "import boto3\n",
        "from sagemaker import get_execution_role\n",
        "from sagemaker.amazon.amazon_estimator import get_image_uri\n",
        "\n",
        "# Set up the Sagemaker environment\n",
        "sagemaker_session = sagemaker.Session()\n",
        "role = get_execution_role()\n",
        "\n",
        "# Define the S3 bucket and prefix that you want to use for training and model data\n",
        "bucket = sagemaker_session.default_bucket()  # replace with your own bucket name if not using the default bucket\n",
        "prefix = 'sagemaker/DEMO-deepar' # replace with the prefix under which you want to store the data if needed\n",
        "\n",
        "# We use the DeepAR container\n",
        "image_name = get_image_uri(boto3.Session().region_name, 'forecasting-deepar')\n",
        "\n",
        "# Define the estimator\n",
        "estimator = sagemaker.estimator.Estimator(\n",
        "    sagemaker_session=sagemaker_session,\n",
        "    image_name=image_name,\n",
        "    role=role,\n",
        "    train_instance_count=1,\n",
        "    train_instance_type='ml.c4.xlarge',\n",
        "    base_job_name='DEMO-deepar',\n",
        "    output_path=\"s3://{}/{}/output\".format(bucket, prefix),\n",
        ")\n",
        "\n",
        "# Set the hyperparameters\n",
        "estimator.set_hyperparameters(\n",
        "    time_freq='D', # daily frequency\n",
        "    context_length=30, # number of data points that the model gets to see before making a prediction\n",
        "    prediction_length=30, # number of data points that the model is trained to predict\n",
        "    epochs=50,\n",
        "    early_stopping_patience=10,\n",
        "    mini_batch_size=64,\n",
        "    learning_rate=0.001,\n",
        ")\n",
        "\n",
        "# Specify the data channels\n",
        "data_channels = {\n",
        "    \"train\": \"s3://{}/{}/train/\".format(bucket, prefix),\n",
        "    \"test\": \"s3://{}/{}/test/\".format(bucket, prefix)\n",
        "}\n",
        "\n",
        "# Fit the model\n",
        "estimator.fit(inputs=data_channels)\n"
      ],
      "metadata": {
        "id": "iL6AE-uaQbqk"
      },
      "execution_count": null,
      "outputs": []
    },
    {
      "cell_type": "code",
      "source": [
        "import pandas as pd\n",
        "import random\n",
        "\n",
        "class SKU:\n",
        "    def __init__(self, sku_name, quantity, delivery_time):\n",
        "        self.sku_name = sku_name\n",
        "        self.quantity = quantity\n",
        "        self.delivery_time = delivery_time\n",
        "\n",
        "    def decrease_quantity(self):\n",
        "        decrease_amount = random.randint(1, 10)  # Randomly decrease quantity by 1 to 10 units\n",
        "        self.quantity -= decrease_amount\n",
        "        if self.quantity < 0:\n",
        "            self.quantity = 0\n",
        "\n",
        "    def check_quantity(self):\n",
        "        return self.quantity\n",
        "\n",
        "def simulate_quantities(skus, num_iterations):\n",
        "    for i in range(num_iterations):\n",
        "        print(f\"\\nIteration {i + 1}:\")\n",
        "        for sku in skus:\n",
        "            sku.decrease_quantity()\n",
        "            print(f\"{sku.sku_name}: Quantity - {sku.check_quantity()}\")\n",
        "\n",
        "def order_products(skus, sku_name, quantity):\n",
        "    for sku in skus:\n",
        "        if sku.sku_name == sku_name:\n",
        "            print(f\"Ordered {quantity} units of {sku_name}.\")\n",
        "            sku.quantity += quantity\n",
        "            break\n",
        "    else:\n",
        "        print(\"SKU not found.\")\n",
        "\n",
        "def main():\n",
        "    # Sample DataFrame with SKU names, quantities, and delivery times\n",
        "    data = {\n",
        "        'SKU Name': ['SKU1', 'SKU2', 'SKU3', 'SKU4', 'SKU5'],\n",
        "        'Quantity': [100, 150, 80, 200, 120],\n",
        "        'Delivery Time (days)': [3, 5, 2, 4, 6]\n",
        "    }\n",
        "    df = pd.DataFrame(data)\n",
        "\n",
        "    # Convert DataFrame to list of SKU objects\n",
        "    skus = [SKU(row['SKU Name'], row['Quantity'], row['Delivery Time (days)']) for index, row in df.iterrows()]\n",
        "\n",
        "    # Simulate quantities for 10 iterations\n",
        "    simulate_quantities(skus, 10)\n",
        "\n",
        "    # Order products based on user input\n",
        "    while True:\n",
        "        choice = input(\"\\nDo you want to order products? (yes/no): \").lower()\n",
        "        if choice == 'yes':\n",
        "            sku_name = input(\"Enter SKU Name: \")\n",
        "            quantity = int(input(\"Enter quantity to order: \"))\n",
        "            order_products(skus, sku_name, quantity)\n",
        "        elif choice == 'no':\n",
        "            print(\"Exiting...\")\n",
        "            break\n",
        "        else:\n",
        "            print(\"Invalid choice. Please enter 'yes' or 'no'.\")\n",
        "\n",
        "    # Find SKU with minimum quantity and its delivery time\n",
        "    min_sku = min(skus, key=lambda x: x.quantity)\n",
        "    print(f\"\\nSKU with minimum quantity: {min_sku.sku_name}\")\n",
        "    print(f\"Quantity: {min_sku.quantity}\")\n",
        "    print(f\"Delivery Time (days): {min_sku.delivery_time}\")\n",
        "\n",
        "if __name__ == \"__main__\":\n",
        "    main()\n"
      ],
      "metadata": {
        "id": "Y2kkImug73_K"
      },
      "execution_count": null,
      "outputs": []
    },
    {
      "cell_type": "code",
      "source": [
        "import ipywidgets as widgets\n",
        "from IPython.display import display\n",
        "\n",
        "# Sample DataFrame with SKU names, quantities, and delivery times\n",
        "data = {\n",
        "    'SKU Name': ['SKU1', 'SKU2', 'SKU3', 'SKU4', 'SKU5'],\n",
        "    'Quantity': [100, 150, 80, 200, 120],\n",
        "    'Delivery Time (days)': [3, 5, 2, 4, 6]\n",
        "}\n",
        "df = pd.DataFrame(data)\n",
        "\n",
        "# Convert DataFrame to list of SKU objects\n",
        "skus = [SKU(row['SKU Name'], row['Quantity'], row['Delivery Time (days)']) for index, row in df.iterrows()]\n",
        "\n",
        "# Function to handle order button click\n",
        "def order_button_click(button):\n",
        "    sku_name = dropdown_sku.value\n",
        "    quantity = int(quantity_text.value)\n",
        "    order_products(skus, sku_name, quantity)\n",
        "\n",
        "# GUI components\n",
        "dropdown_sku = widgets.Dropdown(\n",
        "    options=[sku.sku_name for sku in skus],\n",
        "    description='SKU Name:',\n",
        "    disabled=False,\n",
        ")\n",
        "\n",
        "quantity_text = widgets.IntText(\n",
        "    value=0,\n",
        "    description='Quantity:',\n",
        "    disabled=False\n",
        ")\n",
        "\n",
        "button_order = widgets.Button(description=\"Order\")\n",
        "button_order.on_click(order_button_click)\n",
        "\n",
        "output_text = widgets.Output()\n",
        "\n",
        "# Display GUI components\n",
        "display(dropdown_sku, quantity_text, button_order, output_text)\n"
      ],
      "metadata": {
        "id": "oYXWABLu9I3q"
      },
      "execution_count": null,
      "outputs": []
    },
    {
      "cell_type": "markdown",
      "source": [
        "Dash"
      ],
      "metadata": {
        "id": "_UekCz0LJ1WR"
      }
    },
    {
      "cell_type": "code",
      "source": [
        "!pip install dash"
      ],
      "metadata": {
        "id": "9Qef2WG6_ntw"
      },
      "execution_count": null,
      "outputs": []
    },
    {
      "cell_type": "code",
      "source": [
        "import dash\n",
        "from dash import dcc\n",
        "from dash import html\n",
        "\n",
        "app = dash.Dash(__name__)\n",
        "\n",
        "app.layout = html.Div(children=[\n",
        "    html.H1(children='Inventory Dashboard'),\n",
        "\n",
        "    dcc.Graph(\n",
        "        id='example-graph',\n",
        "        figure={\n",
        "            'data': [\n",
        "                {'x': list(inventory.inventory.keys()), 'y': [item['stock_count'] for item in inventory.inventory.values()], 'type': 'bar', 'name': 'Inventory'},\n",
        "            ],\n",
        "            'layout': {\n",
        "                'title': 'Inventory Levels'\n",
        "            }\n",
        "        }\n",
        "    )\n",
        "])\n",
        "\n",
        "if __name__ == '__main__':\n",
        "    app.run_server(debug=True)\n"
      ],
      "metadata": {
        "id": "w3065PVdJ3EE"
      },
      "execution_count": null,
      "outputs": []
    }
  ]
}